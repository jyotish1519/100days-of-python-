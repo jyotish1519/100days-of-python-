{
  "nbformat": 4,
  "nbformat_minor": 0,
  "metadata": {
    "colab": {
      "provenance": [],
      "authorship_tag": "ABX9TyNT7/zcXAUIALxIyhBjWe7x",
      "include_colab_link": true
    },
    "kernelspec": {
      "name": "python3",
      "display_name": "Python 3"
    },
    "language_info": {
      "name": "python"
    }
  },
  "cells": [
    {
      "cell_type": "markdown",
      "metadata": {
        "id": "view-in-github",
        "colab_type": "text"
      },
      "source": [
        "<a href=\"https://colab.research.google.com/github/jyotish1519/100days-of-python-/blob/main/exercise_1_.ipynb\" target=\"_parent\"><img src=\"https://colab.research.google.com/assets/colab-badge.svg\" alt=\"Open In Colab\"/></a>"
      ]
    },
    {
      "cell_type": "code",
      "execution_count": 12,
      "metadata": {
        "colab": {
          "base_uri": "https://localhost:8080/"
        },
        "id": "UGDTbgMXqAYu",
        "outputId": "74d8343e-f98b-4c34-dfcb-1d8d714365b6"
      },
      "outputs": [
        {
          "output_type": "stream",
          "name": "stdout",
          "text": [
            "hello world\n"
          ]
        }
      ],
      "source": [
        "#print function\n",
        "print(\"hello world\")"
      ]
    },
    {
      "cell_type": "code",
      "source": [
        "a=\"3\"\n",
        "b=\"2\"\n",
        "print(int(a)+int(b))"
      ],
      "metadata": {
        "colab": {
          "base_uri": "https://localhost:8080/"
        },
        "id": "t1kQ--76qZ6n",
        "outputId": "90241b58-c72a-4359-90a3-0af2e4f33d27"
      },
      "execution_count": 13,
      "outputs": [
        {
          "output_type": "stream",
          "name": "stdout",
          "text": [
            "5\n"
          ]
        }
      ]
    },
    {
      "cell_type": "code",
      "source": [
        "a=input(\"my name is\" )\n",
        "print(\"my name is\" ,a )"
      ],
      "metadata": {
        "colab": {
          "base_uri": "https://localhost:8080/"
        },
        "id": "zc4-RI4HqvGT",
        "outputId": "615a14a2-2dfe-4c0e-ff74-6e256db54bf3"
      },
      "execution_count": 14,
      "outputs": [
        {
          "output_type": "stream",
          "name": "stdout",
          "text": [
            "my name isjyotish\n",
            "my name is jyotish\n"
          ]
        }
      ]
    },
    {
      "cell_type": "code",
      "source": [
        "#crete a calculator\n",
        "a=input(\"enter the first number\")\n",
        "b=input(\"enter the second number\")\n",
        "\n",
        "try:\n",
        "  num1 = int(a)\n",
        "  num2 = int(b)\n",
        "\n",
        "  print(\"the value is\",num1,\"+\",num2,\"is:\",num1+num2)\n",
        "  print(\"the value is\",num1,\"-\",num2,\"is:\",num1-num2)\n",
        "  print(\"the value is\",num1,\"*\",num2,\"is:\",num1*num2)\n",
        "  print(\"the value is\",num1,\"/\",num2,\"is:\",num1/num2)\n",
        "  print(\"the value is\",num1,\"**\",num2,\"is:\",num1**num2)\n",
        "  print(\"the value is\",num1,\"%\",num2,\"is:\",num1%num2)\n",
        "\n",
        "  if num1 > num2:\n",
        "    print(\"a is greater than b\")\n",
        "  else:\n",
        "    print(\"b is greater than a\")\n",
        "\n",
        "except ValueError:\n",
        "  print(\"Invalid input. Please enter numbers only.\")"
      ],
      "metadata": {
        "colab": {
          "base_uri": "https://localhost:8080/"
        },
        "id": "c3M-ZySxqysU",
        "outputId": "6e9fd198-b4fd-4f7f-f234-a0391aa22c0f"
      },
      "execution_count": 15,
      "outputs": [
        {
          "output_type": "stream",
          "name": "stdout",
          "text": [
            "enter the first number10\n",
            "enter the second number10\n",
            "the value is 10 + 10 is: 20\n",
            "the value is 10 - 10 is: 0\n",
            "the value is 10 * 10 is: 100\n",
            "the value is 10 / 10 is: 1.0\n",
            "the value is 10 ** 10 is: 10000000000\n",
            "the value is 10 % 10 is: 0\n",
            "b is greater than a\n"
          ]
        }
      ]
    },
    {
      "cell_type": "code",
      "source": [
        "a=input(\"enter the first number:\")\n",
        "b=input(\"enter the second number:\")\n",
        "try:\n",
        "  num1=int(a)\n",
        "  num2=int(b)\n",
        "  print(\"the value is\",num1,\"+\",num2,\"is:\",num1+num2)\n",
        "  print(\"the value is\",num1,\"-\",num2,\"is:\",num1-num2)\n",
        "  print(\"the value is\",num1,\"*\",num2,\"is:\",num1*num2)\n",
        "  print(\"the value is\",num1,\"**\",num2,\"is:\",num1**num2)\n",
        "  print(\"the value is\",num1,\"/\",num2,\"is:\",num1/num2)\n",
        "  print(\"the value is\",num1,\"%\",num2,\"is:\",num1%num2)\n",
        "\n",
        "except ValueError:\n",
        "  print(\"invalid input.please enter numbers only\")"
      ],
      "metadata": {
        "colab": {
          "base_uri": "https://localhost:8080/"
        },
        "id": "RRXLBxtFq10m",
        "outputId": "a06f1030-83f6-483b-af96-a8cd1be82966"
      },
      "execution_count": 16,
      "outputs": [
        {
          "output_type": "stream",
          "name": "stdout",
          "text": [
            "enter the first number:10\n",
            "enter the second number:10\n",
            "the value is 10 + 10 is: 20\n",
            "the value is 10 - 10 is: 0\n",
            "the value is 10 * 10 is: 100\n",
            "the value is 10 ** 10 is: 10000000000\n",
            "the value is 10 / 10 is: 1.0\n",
            "the value is 10 % 10 is: 0\n"
          ]
        }
      ]
    },
    {
      "cell_type": "code",
      "source": [
        "# write a program to print twinkle twinkle little star poem in python :\n",
        "\n",
        "print(\"\"\"Twinkle, twinkle, little star\n",
        "How I wonder what you are\n",
        "Up above the world so high\n",
        "Like a diamond in the sky\n",
        "Twinkle, twinkle little star\n",
        "How I wonder what you are\n",
        "When the blazing sun is gone\n",
        "When he nothing shines upon\n",
        "Then you show your little light\n",
        "Twinkle, twinkle, all the night\n",
        "\"\"\")"
      ],
      "metadata": {
        "colab": {
          "base_uri": "https://localhost:8080/"
        },
        "id": "X8SX0vTaq6EU",
        "outputId": "08f890a6-5ef3-46e2-8a2b-b5ae28a60bc7"
      },
      "execution_count": 17,
      "outputs": [
        {
          "output_type": "stream",
          "name": "stdout",
          "text": [
            "Twinkle, twinkle, little star\n",
            "How I wonder what you are\n",
            "Up above the world so high\n",
            "Like a diamond in the sky\n",
            "Twinkle, twinkle little star\n",
            "How I wonder what you are\n",
            "When the blazing sun is gone\n",
            "When he nothing shines upon\n",
            "Then you show your little light\n",
            "Twinkle, twinkle, all the night\n",
            "\n"
          ]
        }
      ]
    },
    {
      "cell_type": "code",
      "source": [
        "name = 'jyotish'\n",
        "friend = 'harshit'\n",
        "print(\"hello, \"+name)"
      ],
      "metadata": {
        "colab": {
          "base_uri": "https://localhost:8080/"
        },
        "id": "_IAF01kGrHzF",
        "outputId": "9d9833fb-72cc-4f36-b5c6-1e6299045c03"
      },
      "execution_count": 18,
      "outputs": [
        {
          "output_type": "stream",
          "name": "stdout",
          "text": [
            "hello, jyotish\n"
          ]
        }
      ]
    },
    {
      "cell_type": "code",
      "source": [
        "print('hey harshit,\"Do you want to eat apple\"')"
      ],
      "metadata": {
        "colab": {
          "base_uri": "https://localhost:8080/"
        },
        "id": "53zY2SgSrOd1",
        "outputId": "0ff23be4-ae73-46fd-ffe8-770fb3811944"
      },
      "execution_count": 19,
      "outputs": [
        {
          "output_type": "stream",
          "name": "stdout",
          "text": [
            "hey harshit,\"Do you want to eat apple\"\n"
          ]
        }
      ]
    },
    {
      "cell_type": "code",
      "source": [
        "name=\"jyotish\"\n",
        "friend=\"harshit\"\n",
        "print(name[0])\n",
        "print(name[4])"
      ],
      "metadata": {
        "colab": {
          "base_uri": "https://localhost:8080/"
        },
        "id": "_LzSOHoirTS-",
        "outputId": "24636763-9b62-4579-bbaa-39ae683b5e27"
      },
      "execution_count": 20,
      "outputs": [
        {
          "output_type": "stream",
          "name": "stdout",
          "text": [
            "j\n",
            "i\n"
          ]
        }
      ]
    },
    {
      "cell_type": "code",
      "source": [
        "name='''Twinkle, twinkle, little star\n",
        "\n",
        "How I wonder what you are\n",
        "\n",
        "Up above the world so high\n",
        "\n",
        "Like a diamond in the sky\n",
        "\n",
        "Twinkle, twinkle little star\n",
        "\n",
        "How I wonder what you are\n",
        "\n",
        "When the blazing sun is gone\n",
        "\n",
        "When he nothing shines upon\n",
        "\n",
        "Then you show your little light\n",
        "\n",
        "Twinkle, twinkle, all the night\n",
        "\n",
        "for character in'''\n",
        "\n",
        "for character in name:\n",
        "  print(character)"
      ],
      "metadata": {
        "colab": {
          "base_uri": "https://localhost:8080/"
        },
        "id": "uo7dbHyrrlwq",
        "outputId": "9a826065-c29f-4588-84b8-905f8a3be491"
      },
      "execution_count": 21,
      "outputs": [
        {
          "output_type": "stream",
          "name": "stdout",
          "text": [
            "T\n",
            "w\n",
            "i\n",
            "n\n",
            "k\n",
            "l\n",
            "e\n",
            ",\n",
            " \n",
            "t\n",
            "w\n",
            "i\n",
            "n\n",
            "k\n",
            "l\n",
            "e\n",
            ",\n",
            " \n",
            "l\n",
            "i\n",
            "t\n",
            "t\n",
            "l\n",
            "e\n",
            " \n",
            "s\n",
            "t\n",
            "a\n",
            "r\n",
            "\n",
            "\n",
            "\n",
            "\n",
            "H\n",
            "o\n",
            "w\n",
            " \n",
            "I\n",
            " \n",
            "w\n",
            "o\n",
            "n\n",
            "d\n",
            "e\n",
            "r\n",
            " \n",
            "w\n",
            "h\n",
            "a\n",
            "t\n",
            " \n",
            "y\n",
            "o\n",
            "u\n",
            " \n",
            "a\n",
            "r\n",
            "e\n",
            "\n",
            "\n",
            "\n",
            "\n",
            "U\n",
            "p\n",
            " \n",
            "a\n",
            "b\n",
            "o\n",
            "v\n",
            "e\n",
            " \n",
            "t\n",
            "h\n",
            "e\n",
            " \n",
            "w\n",
            "o\n",
            "r\n",
            "l\n",
            "d\n",
            " \n",
            "s\n",
            "o\n",
            " \n",
            "h\n",
            "i\n",
            "g\n",
            "h\n",
            "\n",
            "\n",
            "\n",
            "\n",
            "L\n",
            "i\n",
            "k\n",
            "e\n",
            " \n",
            "a\n",
            " \n",
            "d\n",
            "i\n",
            "a\n",
            "m\n",
            "o\n",
            "n\n",
            "d\n",
            " \n",
            "i\n",
            "n\n",
            " \n",
            "t\n",
            "h\n",
            "e\n",
            " \n",
            "s\n",
            "k\n",
            "y\n",
            "\n",
            "\n",
            "\n",
            "\n",
            "T\n",
            "w\n",
            "i\n",
            "n\n",
            "k\n",
            "l\n",
            "e\n",
            ",\n",
            " \n",
            "t\n",
            "w\n",
            "i\n",
            "n\n",
            "k\n",
            "l\n",
            "e\n",
            " \n",
            "l\n",
            "i\n",
            "t\n",
            "t\n",
            "l\n",
            "e\n",
            " \n",
            "s\n",
            "t\n",
            "a\n",
            "r\n",
            "\n",
            "\n",
            "\n",
            "\n",
            "H\n",
            "o\n",
            "w\n",
            " \n",
            "I\n",
            " \n",
            "w\n",
            "o\n",
            "n\n",
            "d\n",
            "e\n",
            "r\n",
            " \n",
            "w\n",
            "h\n",
            "a\n",
            "t\n",
            " \n",
            "y\n",
            "o\n",
            "u\n",
            " \n",
            "a\n",
            "r\n",
            "e\n",
            "\n",
            "\n",
            "\n",
            "\n",
            "W\n",
            "h\n",
            "e\n",
            "n\n",
            " \n",
            "t\n",
            "h\n",
            "e\n",
            " \n",
            "b\n",
            "l\n",
            "a\n",
            "z\n",
            "i\n",
            "n\n",
            "g\n",
            " \n",
            "s\n",
            "u\n",
            "n\n",
            " \n",
            "i\n",
            "s\n",
            " \n",
            "g\n",
            "o\n",
            "n\n",
            "e\n",
            "\n",
            "\n",
            "\n",
            "\n",
            "W\n",
            "h\n",
            "e\n",
            "n\n",
            " \n",
            "h\n",
            "e\n",
            " \n",
            "n\n",
            "o\n",
            "t\n",
            "h\n",
            "i\n",
            "n\n",
            "g\n",
            " \n",
            "s\n",
            "h\n",
            "i\n",
            "n\n",
            "e\n",
            "s\n",
            " \n",
            "u\n",
            "p\n",
            "o\n",
            "n\n",
            "\n",
            "\n",
            "\n",
            "\n",
            "T\n",
            "h\n",
            "e\n",
            "n\n",
            " \n",
            "y\n",
            "o\n",
            "u\n",
            " \n",
            "s\n",
            "h\n",
            "o\n",
            "w\n",
            " \n",
            "y\n",
            "o\n",
            "u\n",
            "r\n",
            " \n",
            "l\n",
            "i\n",
            "t\n",
            "t\n",
            "l\n",
            "e\n",
            " \n",
            "l\n",
            "i\n",
            "g\n",
            "h\n",
            "t\n",
            "\n",
            "\n",
            "\n",
            "\n",
            "T\n",
            "w\n",
            "i\n",
            "n\n",
            "k\n",
            "l\n",
            "e\n",
            ",\n",
            " \n",
            "t\n",
            "w\n",
            "i\n",
            "n\n",
            "k\n",
            "l\n",
            "e\n",
            ",\n",
            " \n",
            "a\n",
            "l\n",
            "l\n",
            " \n",
            "t\n",
            "h\n",
            "e\n",
            " \n",
            "n\n",
            "i\n",
            "g\n",
            "h\n",
            "t\n",
            "\n",
            "\n",
            "\n",
            "\n",
            "f\n",
            "o\n",
            "r\n",
            " \n",
            "c\n",
            "h\n",
            "a\n",
            "r\n",
            "a\n",
            "c\n",
            "t\n",
            "e\n",
            "r\n",
            " \n",
            "i\n",
            "n\n"
          ]
        }
      ]
    },
    {
      "cell_type": "code",
      "source": [
        "name=\"jyotish,harshit\"\n",
        "print(name[0:5])\n",
        "print(\"name has a length of\",len(name))"
      ],
      "metadata": {
        "colab": {
          "base_uri": "https://localhost:8080/"
        },
        "id": "qFkzoeeUr15z",
        "outputId": "cf53fcde-8022-4b5b-ed37-4729c70cdaa2"
      },
      "execution_count": 22,
      "outputs": [
        {
          "output_type": "stream",
          "name": "stdout",
          "text": [
            "jyoti\n",
            "name has a length of 15\n"
          ]
        }
      ]
    },
    {
      "cell_type": "code",
      "source": [
        "pie=\"applepie\"\n",
        "print(pie[-1])\n",
        "print(pie[-3])"
      ],
      "metadata": {
        "colab": {
          "base_uri": "https://localhost:8080/"
        },
        "id": "CWIPBrXJr6wf",
        "outputId": "971c604a-5ed5-4019-8295-7226f56d1050"
      },
      "execution_count": 23,
      "outputs": [
        {
          "output_type": "stream",
          "name": "stdout",
          "text": [
            "e\n",
            "p\n"
          ]
        }
      ]
    },
    {
      "cell_type": "code",
      "source": [
        "pie=\"applepie\"\n",
        "print(pie[:5])\n",
        "print(pie[6]) # returns character at specified index\n",
        "print(pie[0:len(pie)-5]) # or\n",
        "print(pie[:-5])\n",
        "print(pie[-2:-5])"
      ],
      "metadata": {
        "colab": {
          "base_uri": "https://localhost:8080/"
        },
        "id": "0sHIuIqSsDOl",
        "outputId": "99f423e2-93bc-4ffd-9e7e-c82e43e5346b"
      },
      "execution_count": 24,
      "outputs": [
        {
          "output_type": "stream",
          "name": "stdout",
          "text": [
            "apple\n",
            "i\n",
            "app\n",
            "app\n",
            "\n"
          ]
        }
      ]
    },
    {
      "cell_type": "code",
      "source": [
        "def calculator():\n",
        "    \"\"\"A simple calculator function.\"\"\"\n",
        "    try:\n",
        "        num1 = float(input(\"Enter first number: \"))\n",
        "        operator = input(\"Enter operator (+, -, *, /, %): \")\n",
        "        num2 = float(input(\"Enter second number: \"))\n",
        "\n",
        "        if operator == '+':\n",
        "            print(f\"{num1} + {num2} = {num1 + num2}\")\n",
        "        elif operator == '-':\n",
        "            print(f\"{num1} - {num2} = {num1 - num2}\")\n",
        "        elif operator == '*':\n",
        "            print(f\"{num1} * {num2} = {num1 * num2}\")\n",
        "        elif operator == '/':\n",
        "            if num2 == 0:\n",
        "                print(\"Error: Division by zero!\")\n",
        "            else:\n",
        "                print(f\"{num1} / {num2} = {num1 / num2}\")\n",
        "        elif operator == '%':\n",
        "            print(f\"{num1} % {num2} = {num1 % num2}\")\n",
        "        else:\n",
        "            print(\"Invalid operator.\")\n",
        "    except ValueError:\n",
        "        print(\"Invalid input. Please enter valid numbers.\")\n",
        "\n",
        "calculator()"
      ],
      "metadata": {
        "colab": {
          "base_uri": "https://localhost:8080/"
        },
        "id": "hbUHBZjFsEQr",
        "outputId": "716bde45-8d43-478e-eb64-c6f8d917232e"
      },
      "execution_count": 25,
      "outputs": [
        {
          "output_type": "stream",
          "name": "stdout",
          "text": [
            "Enter first number: 10\n",
            "Enter operator (+, -, *, /, %): *\n",
            "Enter second number: 10\n",
            "10.0 * 10.0 = 100.0\n"
          ]
        }
      ]
    },
    {
      "cell_type": "code",
      "source": [
        "#string are immutable.\n",
        "a=\"jyotish\"\n",
        "print(len(a))\n",
        "print(a.upper())\n",
        "print(a.lower())"
      ],
      "metadata": {
        "colab": {
          "base_uri": "https://localhost:8080/"
        },
        "id": "mG-my9SgsHSx",
        "outputId": "701b3d1e-a5e9-46f9-e2aa-42c83a6dcb0f"
      },
      "execution_count": 26,
      "outputs": [
        {
          "output_type": "stream",
          "name": "stdout",
          "text": [
            "7\n",
            "JYOTISH\n",
            "jyotish\n"
          ]
        }
      ]
    },
    {
      "cell_type": "code",
      "source": [
        "# strip()\n",
        "a=\"You currently have zero compute units available. Resources offered free of charge are not guaranteed. Purchase more units\"\n",
        "print(a.strip())"
      ],
      "metadata": {
        "colab": {
          "base_uri": "https://localhost:8080/"
        },
        "id": "qlUV_e7osKuc",
        "outputId": "7ffa844d-a8f6-45bc-e876-b0493ef529c6"
      },
      "execution_count": 27,
      "outputs": [
        {
          "output_type": "stream",
          "name": "stdout",
          "text": [
            "You currently have zero compute units available. Resources offered free of charge are not guaranteed. Purchase more units\n"
          ]
        }
      ]
    },
    {
      "cell_type": "code",
      "source": [
        "#rstip()\n",
        "str2= \"jyotish harshit !!!!!!!!!\"\n",
        "print(str2.rstrip(\"!\"))"
      ],
      "metadata": {
        "colab": {
          "base_uri": "https://localhost:8080/"
        },
        "id": "0EVnv5uzsOIW",
        "outputId": "8920f48f-3c65-45df-eba9-ca0065b92493"
      },
      "execution_count": 28,
      "outputs": [
        {
          "output_type": "stream",
          "name": "stdout",
          "text": [
            "jyotish harshit \n"
          ]
        }
      ]
    },
    {
      "cell_type": "code",
      "source": [
        "#replace():\n",
        "str2= \"jyotish harshit !!!!!!!!!\"\n",
        "print(str2.replace(\"harshit\",\"harshit singh\"))"
      ],
      "metadata": {
        "colab": {
          "base_uri": "https://localhost:8080/"
        },
        "id": "C2H3Fm_5sU-2",
        "outputId": "76612190-424a-4707-b62d-007af47c5660"
      },
      "execution_count": 29,
      "outputs": [
        {
          "output_type": "stream",
          "name": "stdout",
          "text": [
            "jyotish harshit singh !!!!!!!!!\n"
          ]
        }
      ]
    },
    {
      "cell_type": "code",
      "source": [
        "#split: the split() method split the given string at the specified instance and returns the separated strint at a list items\n",
        "str2= \"jyotish harshit !!!!!!!!!\"\n",
        "print(str2.split())\n"
      ],
      "metadata": {
        "colab": {
          "base_uri": "https://localhost:8080/"
        },
        "id": "ILCZs71DsYd6",
        "outputId": "ac30cea5-a251-4654-a5e0-e1a5d74c0ac9"
      },
      "execution_count": 30,
      "outputs": [
        {
          "output_type": "stream",
          "name": "stdout",
          "text": [
            "['jyotish', 'harshit', '!!!!!!!!!']\n"
          ]
        }
      ]
    },
    {
      "cell_type": "code",
      "source": [
        "# Keywords are reserved words in Python that have special meanings.\n",
        "# They cannot be used as variable names, function names, or any other identifiers.\n",
        "\n",
        "# Here are some common Python keywords and their uses:\n",
        "\n",
        "# if, elif, else: Used for conditional execution.\n",
        "x = 10\n",
        "if x > 5:\n",
        "    print(\"x is greater than 5\")\n",
        "elif x == 5:\n",
        "    print(\"x is 5\")\n",
        "else:\n",
        "    print(\"x is less than 5\")\n",
        "\n",
        "# for: Used for iterating over a sequence (like a list, tuple, string, or range).\n",
        "fruits = [\"apple\", \"banana\", \"cherry\"]\n",
        "for fruit in fruits:\n",
        "    print(fruit)\n",
        "\n",
        "# while: Used for executing a block of code repeatedly as long as a condition is true.\n",
        "count = 0\n",
        "while count < 5:\n",
        "    print(count)\n",
        "    count += 1\n",
        "\n",
        "# def: Used to define a function.\n",
        "def greet(name):\n",
        "    print(\"Hello, \" + name)\n",
        "\n",
        "greet(\"Jyotish\")\n",
        "\n",
        "# import: Used to import modules or parts of modules.\n",
        "import math\n",
        "print(math.sqrt(16))\n",
        "\n",
        "# try, except, finally: Used for exception handling.\n",
        "try:\n",
        "    result = 10 / 0\n",
        "except ZeroDivisionError:\n",
        "    print(\"Cannot divide by zero!\")\n",
        "finally:\n",
        "    print(\"This will always execute\")\n",
        "\n",
        "# class: Used to define a class.\n",
        "class MyClass:\n",
        "    def __init__(self, name):\n",
        "        self.name = name\n",
        "    def display_name(self):\n",
        "        print(self.name)\n",
        "\n",
        "obj = MyClass(\"Example\")\n",
        "obj.display_name()\n",
        "\n",
        "# True, False, None: Boolean values and null value.\n",
        "is_active = True\n",
        "is_valid = False\n",
        "data = None\n",
        "\n",
        "print(is_active)\n",
        "print(is_valid)\n",
        "print(data)\n",
        "\n",
        "# and, or, not: Logical operators.\n",
        "a = True\n",
        "b = False\n",
        "print(a and b)\n",
        "print(a or b)\n",
        "print(not a)"
      ],
      "metadata": {
        "colab": {
          "base_uri": "https://localhost:8080/"
        },
        "id": "mHrmhpc9sa80",
        "outputId": "12ad14e3-79d9-484d-9b9d-94eaa967571c"
      },
      "execution_count": 31,
      "outputs": [
        {
          "output_type": "stream",
          "name": "stdout",
          "text": [
            "x is greater than 5\n",
            "apple\n",
            "banana\n",
            "cherry\n",
            "0\n",
            "1\n",
            "2\n",
            "3\n",
            "4\n",
            "Hello, Jyotish\n",
            "4.0\n",
            "Cannot divide by zero!\n",
            "This will always execute\n",
            "Example\n",
            "True\n",
            "False\n",
            "None\n",
            "False\n",
            "True\n",
            "False\n"
          ]
        }
      ]
    },
    {
      "cell_type": "code",
      "source": [],
      "metadata": {
        "id": "5oUhDHOjsfaX"
      },
      "execution_count": 31,
      "outputs": []
    }
  ]
}